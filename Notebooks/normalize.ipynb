{
 "cells": [
  {
   "cell_type": "code",
   "execution_count": 84,
   "metadata": {
    "collapsed": false
   },
   "outputs": [
    {
     "name": "stdout",
     "output_type": "stream",
     "text": [
      "The autoreload extension is already loaded. To reload it, use:\n",
      "  %reload_ext autoreload\n"
     ]
    }
   ],
   "source": [
    "%matplotlib notebook\n",
    "import scipy.io \n",
    "import skimage.io\n",
    "import os\n",
    "from os.path import join,basename,dirname\n",
    "import numpy as np\n",
    "import matplotlib.pyplot as plt\n",
    "from glob import glob\n",
    "from tqdm import tqdm\n",
    "import re\n",
    "import sys\n",
    "sys.path.append(\"./utils/\")\n",
    "from data_path import *\n",
    "%load_ext autoreload\n",
    "%autoreload 1\n",
    "%aimport data_path\n",
    "import warnings\n",
    "warnings.filterwarnings(\"ignore\")"
   ]
  },
  {
   "cell_type": "code",
   "execution_count": 104,
   "metadata": {
    "collapsed": true
   },
   "outputs": [],
   "source": [
    "def get_crop_path(path):\n",
    "    ans = path[:15] + \"CROP\\\\\" + path[15:]\n",
    "    os.makedirs(dirname(ans), exist_ok=True)\n",
    "    return ans"
   ]
  },
  {
   "cell_type": "code",
   "execution_count": 91,
   "metadata": {
    "collapsed": false
   },
   "outputs": [],
   "source": [
    "def normalize_to_several_images(files):\n",
    "    minh = 1000000\n",
    "    minw = 1000000\n",
    "    for name in tqdm(files):\n",
    "        im = skimage.io.imread(name)\n",
    "        if im.shape[0] < minh:\n",
    "            minh = im.shape[0]\n",
    "        if im.shape[1] < minw:\n",
    "            minw = im.shape[1]\n",
    "    for name in tqdm(files):\n",
    "        im = skimage.io.imread(name)\n",
    "        v_nimages = im.shape[0]//minh\n",
    "        h_nimages = im.shape[1]//minw\n",
    "        for iv in range(v_nimages):\n",
    "            for ih in range(h_nimages):\n",
    "                cropped = im[iv*minh:(iv+1)*minh, ih*minw:(ih+1)*minw]\n",
    "                skimage.io.imsave(join(dirname(get_crop_path(name)), str(iv) + \"_\" + str(ih) + \"_\" + basename(name)),cropped)"
   ]
  },
  {
   "cell_type": "code",
   "execution_count": 92,
   "metadata": {
    "collapsed": false
   },
   "outputs": [
    {
     "name": "stderr",
     "output_type": "stream",
     "text": [
      "100%|██████████████████████████████████████████████████████████████████████████████████| 18/18 [00:02<00:00,  7.38it/s]\n"
     ]
    }
   ],
   "source": [
    "files = list()\n",
    "for genre in tqdm(PATH_ORIGIN.items()):\n",
    "    if genre[0] == \"ABSTRACT\":\n",
    "        subgenres = [join(genre[1],folder) for folder in os.listdir(genre[1]) if folder[0] != \"_\"]\n",
    "        for subgenre in subgenres:\n",
    "            artists = os.listdir(subgenre)\n",
    "            for artist in artists:\n",
    "                images = os.listdir(join(subgenre, artist))\n",
    "                for image in images:\n",
    "                    files.append(join(subgenre, artist, image))\n",
    "    else:\n",
    "        artists = os.listdir(genre[1])\n",
    "        for artist in artists:\n",
    "            images = os.listdir(join(genre[1], artist))\n",
    "            for image in images:\n",
    "                files.append(join(genre[1], artist, image))"
   ]
  },
  {
   "cell_type": "code",
   "execution_count": 106,
   "metadata": {
    "collapsed": false,
    "scrolled": false
   },
   "outputs": [
    {
     "name": "stderr",
     "output_type": "stream",
     "text": [
      "100%|███████████████████████████████████████████████████████████████████████████| 18038/18038 [01:44<00:00, 172.27it/s]\n",
      "100%|████████████████████████████████████████████████████████████████████████████| 18038/18038 [35:35<00:00,  8.45it/s]\n"
     ]
    }
   ],
   "source": [
    "normalize_to_several_images(files)"
   ]
  },
  {
   "cell_type": "code",
   "execution_count": 111,
   "metadata": {
    "collapsed": false
   },
   "outputs": [
    {
     "data": {
      "text/plain": [
       "'01'"
      ]
     },
     "execution_count": 111,
     "metadata": {},
     "output_type": "execute_result"
    }
   ],
   "source": [
    "files[0][15:17]"
   ]
  },
  {
   "cell_type": "code",
   "execution_count": null,
   "metadata": {
    "collapsed": true
   },
   "outputs": [],
   "source": []
  }
 ],
 "metadata": {
  "kernelspec": {
   "display_name": "Python 3",
   "language": "python",
   "name": "python3"
  },
  "language_info": {
   "codemirror_mode": {
    "name": "ipython",
    "version": 3
   },
   "file_extension": ".py",
   "mimetype": "text/x-python",
   "name": "python",
   "nbconvert_exporter": "python",
   "pygments_lexer": "ipython3",
   "version": "3.6.0"
  }
 },
 "nbformat": 4,
 "nbformat_minor": 2
}
